{
  "nbformat": 4,
  "nbformat_minor": 0,
  "metadata": {
    "colab": {
      "name": "scratchpad",
      "provenance": [],
      "include_colab_link": true
    },
    "kernelspec": {
      "display_name": "Python 3",
      "name": "python3"
    }
  },
  "cells": [
    {
      "cell_type": "markdown",
      "metadata": {
        "id": "view-in-github",
        "colab_type": "text"
      },
      "source": [
        "<a href=\"https://colab.research.google.com/github/yash-awesome/codes_in_general/blob/main/scratchpad.ipynb\" target=\"_parent\"><img src=\"https://colab.research.google.com/assets/colab-badge.svg\" alt=\"Open In Colab\"/></a>"
      ]
    },
    {
      "cell_type": "code",
      "source": [
        "!pip install finesse"
      ],
      "metadata": {
        "id": "CWiUCdW_o__s",
        "outputId": "42974b5a-19ed-43df-b27c-f01b90615d82",
        "colab": {
          "base_uri": "https://localhost:8080/"
        }
      },
      "execution_count": 1,
      "outputs": [
        {
          "output_type": "stream",
          "name": "stdout",
          "text": [
            "Collecting finesse\n",
            "  Downloading finesse-3.0a29-cp311-cp311-manylinux_2_17_x86_64.manylinux2014_x86_64.whl.metadata (44 kB)\n",
            "\u001b[?25l     \u001b[90m━━━━━━━━━━━━━━━━━━━━━━━━━━━━━━━━━━━━━━━━\u001b[0m \u001b[32m0.0/44.1 kB\u001b[0m \u001b[31m?\u001b[0m eta \u001b[36m-:--:--\u001b[0m\r\u001b[2K     \u001b[90m━━━━━━━━━━━━━━━━━━━━━━━━━━━━━━━━━━━━━━━━\u001b[0m \u001b[32m44.1/44.1 kB\u001b[0m \u001b[31m1.4 MB/s\u001b[0m eta \u001b[36m0:00:00\u001b[0m\n",
            "\u001b[?25hRequirement already satisfied: numpy>=1.20 in /usr/local/lib/python3.11/dist-packages (from finesse) (1.26.4)\n",
            "Requirement already satisfied: scipy>=1.4 in /usr/local/lib/python3.11/dist-packages (from finesse) (1.13.1)\n",
            "Requirement already satisfied: matplotlib>=3.5 in /usr/local/lib/python3.11/dist-packages (from finesse) (3.10.0)\n",
            "Requirement already satisfied: networkx>=2.4 in /usr/local/lib/python3.11/dist-packages (from finesse) (3.4.2)\n",
            "Collecting sly>=0.4 (from finesse)\n",
            "  Downloading sly-0.5-py3-none-any.whl.metadata (373 bytes)\n",
            "Requirement already satisfied: click>=7.1 in /usr/local/lib/python3.11/dist-packages (from finesse) (8.1.8)\n",
            "Collecting click-default-group>=1.2.2 (from finesse)\n",
            "  Downloading click_default_group-1.2.4-py2.py3-none-any.whl.metadata (2.8 kB)\n",
            "Collecting control>=0.9 (from finesse)\n",
            "  Downloading control-0.10.1-py3-none-any.whl.metadata (7.6 kB)\n",
            "Requirement already satisfied: sympy>=1.6 in /usr/local/lib/python3.11/dist-packages (from finesse) (1.13.1)\n",
            "Requirement already satisfied: more-itertools>=8.7 in /usr/local/lib/python3.11/dist-packages (from finesse) (10.5.0)\n",
            "Requirement already satisfied: tqdm>=4.40 in /usr/local/lib/python3.11/dist-packages (from finesse) (4.67.1)\n",
            "Requirement already satisfied: h5py>=3.0 in /usr/local/lib/python3.11/dist-packages (from finesse) (3.12.1)\n",
            "Requirement already satisfied: deprecated>=1.2 in /usr/local/lib/python3.11/dist-packages (from finesse) (1.2.15)\n",
            "Collecting pyspellchecker>=0.6 (from finesse)\n",
            "  Downloading pyspellchecker-0.8.2-py3-none-any.whl.metadata (9.4 kB)\n",
            "Collecting quantiphy>=2.15 (from finesse)\n",
            "  Downloading quantiphy-2.20-py3-none-any.whl.metadata (7.7 kB)\n",
            "Requirement already satisfied: wrapt<2,>=1.10 in /usr/local/lib/python3.11/dist-packages (from deprecated>=1.2->finesse) (1.17.0)\n",
            "Requirement already satisfied: contourpy>=1.0.1 in /usr/local/lib/python3.11/dist-packages (from matplotlib>=3.5->finesse) (1.3.1)\n",
            "Requirement already satisfied: cycler>=0.10 in /usr/local/lib/python3.11/dist-packages (from matplotlib>=3.5->finesse) (0.12.1)\n",
            "Requirement already satisfied: fonttools>=4.22.0 in /usr/local/lib/python3.11/dist-packages (from matplotlib>=3.5->finesse) (4.55.3)\n",
            "Requirement already satisfied: kiwisolver>=1.3.1 in /usr/local/lib/python3.11/dist-packages (from matplotlib>=3.5->finesse) (1.4.8)\n",
            "Requirement already satisfied: packaging>=20.0 in /usr/local/lib/python3.11/dist-packages (from matplotlib>=3.5->finesse) (24.2)\n",
            "Requirement already satisfied: pillow>=8 in /usr/local/lib/python3.11/dist-packages (from matplotlib>=3.5->finesse) (11.1.0)\n",
            "Requirement already satisfied: pyparsing>=2.3.1 in /usr/local/lib/python3.11/dist-packages (from matplotlib>=3.5->finesse) (3.2.1)\n",
            "Requirement already satisfied: python-dateutil>=2.7 in /usr/local/lib/python3.11/dist-packages (from matplotlib>=3.5->finesse) (2.8.2)\n",
            "Requirement already satisfied: mpmath<1.4,>=1.1.0 in /usr/local/lib/python3.11/dist-packages (from sympy>=1.6->finesse) (1.3.0)\n",
            "Requirement already satisfied: six>=1.5 in /usr/local/lib/python3.11/dist-packages (from python-dateutil>=2.7->matplotlib>=3.5->finesse) (1.17.0)\n",
            "Downloading finesse-3.0a29-cp311-cp311-manylinux_2_17_x86_64.manylinux2014_x86_64.whl (44.6 MB)\n",
            "\u001b[2K   \u001b[90m━━━━━━━━━━━━━━━━━━━━━━━━━━━━━━━━━━━━━━━━\u001b[0m \u001b[32m44.6/44.6 MB\u001b[0m \u001b[31m11.3 MB/s\u001b[0m eta \u001b[36m0:00:00\u001b[0m\n",
            "\u001b[?25hDownloading click_default_group-1.2.4-py2.py3-none-any.whl (4.1 kB)\n",
            "Downloading control-0.10.1-py3-none-any.whl (549 kB)\n",
            "\u001b[2K   \u001b[90m━━━━━━━━━━━━━━━━━━━━━━━━━━━━━━━━━━━━━━━━\u001b[0m \u001b[32m549.6/549.6 kB\u001b[0m \u001b[31m18.6 MB/s\u001b[0m eta \u001b[36m0:00:00\u001b[0m\n",
            "\u001b[?25hDownloading pyspellchecker-0.8.2-py3-none-any.whl (7.1 MB)\n",
            "\u001b[2K   \u001b[90m━━━━━━━━━━━━━━━━━━━━━━━━━━━━━━━━━━━━━━━━\u001b[0m \u001b[32m7.1/7.1 MB\u001b[0m \u001b[31m35.8 MB/s\u001b[0m eta \u001b[36m0:00:00\u001b[0m\n",
            "\u001b[?25hDownloading quantiphy-2.20-py3-none-any.whl (41 kB)\n",
            "\u001b[2K   \u001b[90m━━━━━━━━━━━━━━━━━━━━━━━━━━━━━━━━━━━━━━━━\u001b[0m \u001b[32m41.3/41.3 kB\u001b[0m \u001b[31m2.1 MB/s\u001b[0m eta \u001b[36m0:00:00\u001b[0m\n",
            "\u001b[?25hDownloading sly-0.5-py3-none-any.whl (28 kB)\n",
            "Installing collected packages: sly, quantiphy, pyspellchecker, click-default-group, control, finesse\n",
            "Successfully installed click-default-group-1.2.4 control-0.10.1 finesse-3.0a29 pyspellchecker-0.8.2 quantiphy-2.20 sly-0.5\n"
          ]
        }
      ]
    },
    {
      "metadata": {
        "id": "ykldCVAWT0Xl"
      },
      "cell_type": "code",
      "source": [
        "import finesse\n",
        "import matplotlib.pyplot as plt\n",
        "\n",
        "# Initialize a Finesse model for the Michelson interferometer\n",
        "interferometer = finesse.Model()\n",
        "\n",
        "# Create the laser source\n",
        "interferometer.add_laser(name=\"Laser\", power=1.0, wavelength=1064e-9)  # Power in watts and wavelength in meters\n",
        "\n",
        "# Create the beam splitter (50:50 splitter)\n",
        "interferometer.add_bs(name=\"BeamSplitter\", transmission=0.5, reflection=0.5)\n",
        "\n",
        "# Create two mirrors for the interferometer arms\n",
        "interferometer.add_mirror(name=\"Mirror1\", reflectivity=1.0)\n",
        "interferometer.add_mirror(name=\"Mirror2\", reflectivity=1.0)\n",
        "\n",
        "# Add a detector to measure the interference at the output\n",
        "interferometer.add_detector(name=\"Detector\", at=\"output\")\n",
        "\n",
        "# Connect the components to form the Michelson interferometer\n",
        "interferometer.connect(\"Laser\", \"BeamSplitter\", port=\"input\")\n",
        "interferometer.connect(\"BeamSplitter\", \"Mirror1\", port=\"output1\")\n",
        "interferometer.connect(\"BeamSplitter\", \"Mirror2\", port=\"output2\")\n",
        "interferometer.connect(\"Mirror1\", \"BeamSplitter\", port=\"input1\")\n",
        "interferometer.connect(\"Mirror2\", \"BeamSplitter\", port=\"input2\")\n",
        "interferometer.connect(\"BeamSplitter\", \"Detector\", port=\"output\")\n",
        "\n",
        "# Run a simulation to calculate the interference pattern\n",
        "interferometer.run()\n",
        "\n",
        "# Visualize the output of the interferometer, for example, the detector output\n",
        "interferometer.plot(\"Detector\")\n",
        "\n",
        "# Show the plot of the interference pattern\n",
        "plt.title(\"Michelson Interferometer Output\")\n",
        "plt.xlabel(\"Position (m)\")\n",
        "plt.ylabel(\"Intensity (a.u.)\")\n",
        "plt.show()\n"
      ],
      "execution_count": null,
      "outputs": []
    }
  ]
}